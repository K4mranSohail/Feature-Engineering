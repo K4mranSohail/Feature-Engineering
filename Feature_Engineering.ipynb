{
  "nbformat": 4,
  "nbformat_minor": 0,
  "metadata": {
    "colab": {
      "provenance": []
    },
    "kernelspec": {
      "name": "python3",
      "display_name": "Python 3"
    },
    "language_info": {
      "name": "python"
    }
  },
  "cells": [
    {
      "cell_type": "markdown",
      "source": [
        "# Assignment Questions"
      ],
      "metadata": {
        "id": "Fzrnjr6-Ua0U"
      }
    },
    {
      "cell_type": "markdown",
      "source": [
        "Q1. What is a parameter?\n",
        "\n",
        " - A parameter is a value that you pass to a function, procedure, or command to customize its behavior. It acts like a placeholder for input values that a function can use to perform its task."
      ],
      "metadata": {
        "id": "AOh0PkhQUeoJ"
      }
    },
    {
      "cell_type": "markdown",
      "source": [
        "Q2. What is correlation?\n",
        "What does negative correlation mean?\n",
        "\n",
        " - Correlation is a statistical measure that describes the strength and direction of a relationship between two variables.\n",
        "\n",
        " ❌ Negative Correlation\n",
        "\n",
        "When one variable increases, the other decreases.\n",
        "\n",
        "Example: Hours of study vs. Number of errors on a test\n",
        "\n",
        "Another: Price of a product vs. Quantity demanded\n",
        "\n",
        "So, negative correlation means the two variables move in opposite directions."
      ],
      "metadata": {
        "id": "Pp4siqwIU34Y"
      }
    },
    {
      "cell_type": "markdown",
      "source": [
        "Q3. Define Machine Learning. What are the main components in Machine Learning?\n",
        "\n",
        " - Machine Learning is a branch of Artificial Intelligence (AI) that enables systems to learn from data, identify patterns, and make decisions with minimal human intervention.\n",
        "\n",
        "  🧩 Main Components of Machine Learning\n",
        "\n",
        "  -   Data\n",
        "\n",
        "     The most critical component.\n",
        "\n",
        "     Includes raw input like text, numbers, images, or sensor readings.\n",
        "\n",
        "     The quality and quantity of data strongly affect the model’s performance.\n",
        "\n",
        "  -  Model\n",
        "\n",
        "     A mathematical representation of a real-world process.\n",
        "\n",
        "     It learns patterns from the data.\n",
        "\n",
        "     Examples: Linear regression, decision trees, neural networks.\n",
        "\n",
        "  - Algorithm\n",
        "\n",
        "     The method used to train the model.\n",
        "\n",
        "     It defines how the model will learn from the data.\n",
        "\n",
        "     Examples: Gradient Descent, Random Forest, K-Means.\n",
        "\n",
        "  - Training\n",
        "\n",
        "     The process where the model learns from the historical data.\n",
        "\n",
        "     It adjusts internal parameters to minimize prediction error.\n",
        "\n",
        "  - Evaluation\n",
        "\n",
        "     Checks how well the model performs using metrics like:\n",
        "\n",
        "     Accuracy, Precision, Recall, F1-Score, RMSE, etc.\n",
        "\n",
        "     Uses a test dataset or cross-validation.\n",
        "\n",
        "  - Prediction / Inference\n",
        "\n",
        "     Using the trained model to make predictions or decisions on new (unseen) data.\n",
        "\n",
        "  - Feedback / Optimization\n",
        "\n",
        "     Model performance is monitored and improved over time.\n",
        "\n",
        "     Helps in refining the model using new or updated data."
      ],
      "metadata": {
        "id": "ikAUc4oDVLTN"
      }
    },
    {
      "cell_type": "markdown",
      "source": [
        "Q4. How does loss value help in determining whether the model is good or not?\n",
        "\n",
        " - The loss value measures how far off a model’s predictions are from the actual outcomes. A lower loss indicates the model is performing well, while a higher loss suggests poor predictions. It helps guide the training process and evaluate model quality."
      ],
      "metadata": {
        "id": "9IS949wGWKV1"
      }
    },
    {
      "cell_type": "markdown",
      "source": [
        "Q5. What are continuous and categorical variables?\n",
        "\n",
        " - ✅ Continuous Variables:\n",
        "\n",
        "Variables that can take any numerical value within a range.\n",
        "\n",
        "Example: Height, Weight, Temperature, Income.\n",
        "\n",
        "✅ Categorical Variables:\n",
        "\n",
        "Variables that represent categories or groups, often non-numeric.\n",
        "\n",
        "Example: Gender (Male/Female), Country, Product Type, Yes/No.\n",
        "\n",
        "In short, continuous = numbers you can measure, categorical = labels or categories you can group."
      ],
      "metadata": {
        "id": "N51M4XPGWhhH"
      }
    },
    {
      "cell_type": "markdown",
      "source": [
        "Q6. How do we handle categorical variables in Machine Learning? What are the common techniques?\n",
        "\n",
        " - 🛠️ Common Techniques to Handle Categorical Variables:\n",
        "\n",
        "  - Label Encoding\n",
        "\n",
        "     Assigns each category a unique number.\n",
        "\n",
        "     Example: [\"Red\", \"Blue\", \"Green\"] → [0, 1, 2]\n",
        "\n",
        "     Good for ordinal data (where order matters).\n",
        "\n",
        "  - One-Hot Encoding\n",
        "\n",
        "     Creates binary columns for each category.\n",
        "\n",
        "     Example: [\"Red\", \"Blue\"] → [1,0], [0,1]\n",
        "\n",
        "     Common for nominal data (no order).\n",
        "\n",
        "  - Ordinal Encoding\n",
        "\n",
        "     Like label encoding but keeps the order meaningful.\n",
        "\n",
        "     Example: [\"Low\", \"Medium\", \"High\"] → [1, 2, 3]\n",
        "\n",
        "  - Target Encoding (Mean Encoding)\n",
        "\n",
        "     Replaces a category with the mean of the target variable for that category.\n",
        "\n",
        "     Useful for high-cardinality categorical features.\n",
        "\n",
        "  - Frequency Encoding\n",
        "\n",
        "     Replaces categories with how often they appear in the dataset."
      ],
      "metadata": {
        "id": "AvZpuQuQWvaU"
      }
    },
    {
      "cell_type": "markdown",
      "source": [
        "Q7. What do you mean by training and testing a dataset?\n",
        "\n",
        " - ✅ Training Dataset:\n",
        "\n",
        "Used to train the model — i.e., help it learn patterns and relationships in the data.\n",
        "\n",
        "The model adjusts its parameters based on this data.\n",
        "\n",
        "✅ Testing Dataset:\n",
        "\n",
        "Used to evaluate the model’s performance on unseen data.\n",
        "\n",
        "Helps check if the model can generalize well beyond the data it was trained on."
      ],
      "metadata": {
        "id": "q96KrwlVXlc_"
      }
    },
    {
      "cell_type": "markdown",
      "source": [
        "Q8. What is sklearn.preprocessing?\n",
        "\n",
        " - sklearn.preprocessing is a module in Scikit-learn that provides tools to prepare and transform your data before feeding it into a machine learning model."
      ],
      "metadata": {
        "id": "CR20vik1XvWj"
      }
    },
    {
      "cell_type": "markdown",
      "source": [
        "Q9. What is a Test set?\n",
        "\n",
        " - A test set is a portion of the dataset that is kept separate and not used during training. It is used to evaluate how well a trained machine learning model performs on unseen data.\n",
        "\n"
      ],
      "metadata": {
        "id": "73jTqnldX5by"
      }
    },
    {
      "cell_type": "markdown",
      "source": [
        "Q10. How do we split data for model fitting (training and testing) in Python?\n",
        "     How do you approach a Machine Learning problem?\n",
        "\n",
        " - In Python, you can use train_test_split from sklearn.model_selection to split your data into training and testing sets.\n",
        "\n",
        " Approach to a Machine Learning Problem:\n",
        "When solving a Machine Learning problem, you generally follow these steps:\n",
        "\n",
        "Define the Problem:\n",
        "\n",
        "Understand the problem you're trying to solve (e.g., classification, regression, clustering).\n",
        "\n",
        "Understand the data and the desired outcome.\n",
        "\n",
        "Data Collection:\n",
        "\n",
        "Gather and collect data from reliable sources.\n",
        "\n",
        "Data Preprocessing:\n",
        "\n",
        "Clean the data: Handle missing values, remove duplicates, etc.\n",
        "\n",
        "Feature engineering: Create or modify features to improve model performance.\n",
        "\n",
        "Encode categorical variables (e.g., Label Encoding, One-Hot Encoding).\n",
        "\n",
        "Scale features (e.g., using StandardScaler or MinMaxScaler).\n",
        "\n",
        "Split the Data:\n",
        "\n",
        "Split the data into training and testing sets (typically 80/20 or 70/30).\n",
        "\n",
        "Select a Model:\n",
        "\n",
        "Choose an appropriate machine learning algorithm (e.g., Decision Trees, Random Forest, SVM, Linear Regression).\n",
        "\n",
        "Train the Model:\n",
        "\n",
        "Fit the model on the training data using the fit() method.\n",
        "\n",
        "Evaluate the Model:\n",
        "\n",
        "Evaluate the model's performance on the test set using metrics like accuracy, precision, recall, F1-score, or MSE.\n",
        "\n",
        "Model Tuning:\n",
        "\n",
        "Fine-tune the model’s hyperparameters to improve performance using techniques like GridSearchCV or RandomizedSearchCV.\n",
        "\n",
        "Deploy the Model:\n",
        "\n",
        "Once you're happy with the performance, deploy the model into production for real-time predictions."
      ],
      "metadata": {
        "id": "Rfh9G4YOYB0K"
      }
    },
    {
      "cell_type": "markdown",
      "source": [
        "Q11. Why do we have to perform EDA before fitting a model to the data?\n",
        "\n",
        " - EDA is crucial because it helps you understand the data before applying any machine learning model."
      ],
      "metadata": {
        "id": "CxY1iF2kYToJ"
      }
    },
    {
      "cell_type": "markdown",
      "source": [
        "Q12. What is correlation?\n",
        "\n",
        " - Correlation is a statistical measure that describes the strength and direction of a relationship between two variables."
      ],
      "metadata": {
        "id": "q3faWVQKYer5"
      }
    },
    {
      "cell_type": "markdown",
      "source": [
        "Q13. What does negative correlation mean?\n",
        "\n",
        " - Negative correlation means that when one variable increases, the other variable decreases (or vice versa). In other words, the variables move in opposite directions."
      ],
      "metadata": {
        "id": "F6TPHT_mYlHI"
      }
    },
    {
      "cell_type": "markdown",
      "source": [
        "Q14. How can you find correlation between variables in Python?\n",
        "\n",
        " - You can find the correlation between variables in Python using Pandas’ corr() method, which gives a correlation matrix for all numeric columns. To visualize it, use Seaborn's heatmap(), which shows the strength of relationships using colors and values. For two specific variables, you can also use NumPy’s corrcoef() function."
      ],
      "metadata": {
        "id": "DWjm9675Yr3P"
      }
    },
    {
      "cell_type": "markdown",
      "source": [
        "Q15. What is causation? Explain difference between correlation and causation with an example.\n",
        "\n",
        " - Causation means that one variable directly affects another — a change in one causes a change in the other.\n",
        "\n",
        " Causation refers to a relationship where one variable directly affects or causes a change in another variable. It implies a cause-and-effect connection. On the other hand, correlation simply indicates that two variables are related or move together, but it doesn’t prove that one causes the other. For example, there may be a strong correlation between ice cream sales and drowning incidents during summer, but this does not mean ice cream causes drowning. Instead, both are influenced by a third factor — hot weather. In contrast, causation would be seen in a scenario like increased hours of studying leading to higher test scores, where one directly impacts the other. Thus, while correlation can suggest a potential relationship, causation confirms it with a direct link."
      ],
      "metadata": {
        "id": "Z-k4LW8Xfs3s"
      }
    },
    {
      "cell_type": "markdown",
      "source": [
        "Q16. What is an Optimizer? What are different types of optimizers? Explain each with an example.\n",
        "\n",
        " - An optimizer is an algorithm used to adjust the weights and biases of a machine learning model during training to minimize the loss function (i.e., error). It helps the model learn the best parameters for accurate predictions.\n",
        "\n",
        "⚙️ Common Types of Optimizers (with examples):\n",
        "1️⃣ Gradient Descent (GD)\n",
        "Basic optimization technique that updates weights by computing the gradient of the loss function.\n",
        "\n",
        "Formula:\n",
        "w = w - α * ∂L/∂w\n",
        "(where α is learning rate, ∂L/∂w is the gradient)\n",
        "\n",
        "Example:\n",
        "Used in simple linear regression to minimize the difference between predicted and actual values.\n",
        "\n",
        "2️⃣ Stochastic Gradient Descent (SGD)\n",
        "Updates weights one sample at a time instead of the whole dataset.\n",
        "\n",
        "Faster but may fluctuate during training.\n",
        "\n",
        "Example:\n",
        "Used in online learning or when training on large datasets like image classification.\n",
        "\n",
        "3️⃣ Mini-Batch Gradient Descent\n",
        "A balance between GD and SGD: updates weights using small batches of data.\n",
        "\n",
        "Most commonly used in deep learning.\n",
        "\n",
        "Example:\n",
        "Training neural networks using TensorFlow or PyTorch with batch sizes of 32 or 64.\n",
        "\n",
        "4️⃣ Adam (Adaptive Moment Estimation)\n",
        "Combines momentum and RMSProp.\n",
        "\n",
        "Adapts the learning rate for each parameter, leading to faster and more stable convergence.\n",
        "\n",
        "Example:\n",
        "Popular optimizer for deep learning models like CNNs or RNNs.\n",
        "\n",
        "5️⃣ RMSprop (Root Mean Square Propagation)\n",
        "Adjusts the learning rate based on the average of recent gradients.\n",
        "\n",
        "Works well with non-stationary objectives (i.e., when the data distribution changes).\n",
        "\n",
        "Example:\n",
        "Used in training recurrent neural networks (RNNs).\n",
        "\n",
        "6️⃣ Adagrad\n",
        "Adapts learning rate based on the frequency of parameter updates.\n",
        "\n",
        "Works well for sparse data (like text data).\n",
        "\n",
        "Example:\n",
        "Used in natural language processing tasks like sentiment analysis."
      ],
      "metadata": {
        "id": "ScrHUAkJf8lS"
      }
    },
    {
      "cell_type": "markdown",
      "source": [
        "Q17. What is sklearn.linear_model ?\n",
        "\n",
        " - sklearn.linear_model is a module in the Scikit-learn library that provides linear models for regression and classification tasks."
      ],
      "metadata": {
        "id": "YzkrW6apgOci"
      }
    },
    {
      "cell_type": "markdown",
      "source": [
        "Q18. What does model.fit() do? What arguments must be given?\n",
        "\n",
        " - The model.fit() function in Scikit-learn is used to train the machine learning model on your data. It learns the relationship between the input features (X) and the target variable (y) by adjusting internal parameters.\n",
        "\n"
      ],
      "metadata": {
        "id": "QqLaNAsXgX2_"
      }
    },
    {
      "cell_type": "markdown",
      "source": [
        "Q19. What does model.predict() do? What arguments must be given?\n",
        "\n",
        " - model.predict() is used to make predictions using a trained model. After the model has been fitted with model.fit(), you pass new input data to predict() to get the predicted output (labels or values).\n",
        "\n",
        "model.predict(X) arguments must be given\n",
        "\n"
      ],
      "metadata": {
        "id": "QUTJHYyngfBz"
      }
    },
    {
      "cell_type": "markdown",
      "source": [
        "Q20. What are continuous and categorical variables?\n",
        "\n",
        " - Continuous and Categorical Variables:\n",
        "\n",
        "Continuous Variables are numeric variables that can take an infinite number of values within a range.\n",
        "Example: height, weight, temperature, income.\n",
        "\n",
        "Categorical Variables are variables that represent groups or categories. They can be nominal (no order, like gender or color) or ordinal (with order, like education level or rating).\n",
        "Example: gender, country, product type, rating (low/medium/high).\n",
        "\n",
        "👉 Continuous = measurable numbers\n",
        "\n",
        "👉 Categorical = labels or categories"
      ],
      "metadata": {
        "id": "d5JN_m_egvkl"
      }
    },
    {
      "cell_type": "markdown",
      "source": [
        "Q21. What is feature scaling? How does it help in Machine Learning?\n",
        "\n",
        " - Feature scaling is the process of standardizing or normalizing the range of independent variables (features) so that they are on a similar scale.\n",
        "\n",
        " ✅ Why is it Important in Machine Learning?\n",
        "\n",
        "Improves model performance: Some algorithms (like KNN, SVM, Logistic Regression) are sensitive to the scale of data.\n",
        "\n",
        "Faster convergence: Gradient-based models (e.g., linear regression, neural networks) train faster when features are scaled.\n",
        "\n",
        "Avoids bias: Features with larger ranges can dominate those with smaller ranges without scaling."
      ],
      "metadata": {
        "id": "W5MaLqISg8Ct"
      }
    },
    {
      "cell_type": "markdown",
      "source": [
        "Q22. How do we perform scaling in Python?\n",
        "\n",
        " - You can scale your features using StandardScaler or MinMaxScaler from the sklearn.preprocessing module."
      ],
      "metadata": {
        "id": "wG0SRoT1hLmO"
      }
    },
    {
      "cell_type": "markdown",
      "source": [
        "Q23. What is sklearn.preprocessing?\n",
        "\n",
        " - sklearn.preprocessing is a module in Scikit-learn that provides tools to prepare and transform your data before feeding it into a machine learning model"
      ],
      "metadata": {
        "id": "qU9wajJbhVV0"
      }
    },
    {
      "cell_type": "markdown",
      "source": [
        "Q24. How do we split data for model fitting (training and testing) in Python?\n",
        "\n",
        " - In Python, you can use the train_test_split() function from the sklearn.model_selection module to split your data into training and testing sets.\n",
        "\n"
      ],
      "metadata": {
        "id": "xZNrRLaihi-E"
      }
    },
    {
      "cell_type": "markdown",
      "source": [
        "Q25. Explain data encoding?\n",
        "\n",
        " - Data encoding refers to the process of converting categorical variables into a numeric format that can be used by machine learning models. Many algorithms require input data to be in numeric form because they perform mathematical calculations that rely on numerical values."
      ],
      "metadata": {
        "id": "QvZb9K1VhqJg"
      }
    }
  ]
}